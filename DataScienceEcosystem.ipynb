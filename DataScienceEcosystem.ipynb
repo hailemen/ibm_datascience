{
 "cells": [
  {
   "cell_type": "markdown",
   "id": "b59ff10a-b5dd-42eb-81e5-c2bab12476c9",
   "metadata": {},
   "source": [
    "# Data Science Tools and Ecosystem"
   ]
  },
  {
   "cell_type": "markdown",
   "id": "94b8cff4-3ffb-4227-ad72-9d9f1ca736d1",
   "metadata": {
    "tags": []
   },
   "source": [
    "In this notebook, Data Science Tools and Ecosystem are summarized.\n"
   ]
  },
  {
   "cell_type": "markdown",
   "id": "5c7f57ae-48f0-4e0a-a2a7-97467f50952b",
   "metadata": {},
   "source": [
    "**Objectives**\n",
    "\n",
    "- List of popular languages in DS\n",
    "- Common libraries used in DS\n",
    "- List of DS tools\n",
    "- Examples of evaluating arithmetic expressions in Python\n"
   ]
  },
  {
   "cell_type": "markdown",
   "id": "576eb8ad-310f-40b9-b1f7-c549c4d6ee72",
   "metadata": {},
   "source": [
    "Some of the popular languages that Data Scientists use are:\n",
    "\n",
    "1. Python\n",
    "2. R\n",
    "3. SQL"
   ]
  },
  {
   "cell_type": "markdown",
   "id": "cfc9287c-d258-4071-94f6-a0ce4ebca984",
   "metadata": {},
   "source": [
    "Some of the commonly used libraries used by Data Scientists include:\n",
    "\n",
    "1. Pandas\n",
    "2. Numpy\n",
    "3. Scikit Learn\n",
    "4. Matplotlib\n",
    "5. Seaborn"
   ]
  },
  {
   "cell_type": "markdown",
   "id": "70ba0057-1257-4c9d-853b-af3b16006c1e",
   "metadata": {},
   "source": [
    "|  Data Science Tools  |\n",
    "| ---------------------|\n",
    "| Jupyter              |\n",
    "| R Studio             |\n",
    "| Git/Github           |\n",
    "\n"
   ]
  },
  {
   "cell_type": "markdown",
   "id": "de3753ab-bae6-4973-bf18-a52e330205f8",
   "metadata": {
    "tags": []
   },
   "source": [
    "### Below are a few examples of evaluating arithmetic expressions in Python"
   ]
  },
  {
   "cell_type": "code",
   "execution_count": 7,
   "id": "82b3e6f2-192b-4c4c-9cd7-690637b00e42",
   "metadata": {
    "tags": []
   },
   "outputs": [
    {
     "data": {
      "text/plain": [
       "17"
      ]
     },
     "execution_count": 7,
     "metadata": {},
     "output_type": "execute_result"
    }
   ],
   "source": [
    "(3*4)+5  # This a simple arithmetic expression to mutiply then add integers"
   ]
  },
  {
   "cell_type": "code",
   "execution_count": 5,
   "id": "61b1678a-5208-42e2-a4f7-e18e61adca04",
   "metadata": {
    "tags": []
   },
   "outputs": [
    {
     "data": {
      "text/plain": [
       "3.3333333333333335"
      ]
     },
     "execution_count": 5,
     "metadata": {},
     "output_type": "execute_result"
    }
   ],
   "source": [
    "200/60  # This will convert 200 minutes to hours by diving by 60"
   ]
  },
  {
   "cell_type": "markdown",
   "id": "6d2056a5-70fc-40aa-843e-b21d7db34ec5",
   "metadata": {},
   "source": [
    "## Author\n",
    "Haile Jacobo Meneses Moreno"
   ]
  },
  {
   "cell_type": "code",
   "execution_count": null,
   "id": "5d097739-2d59-4ff8-9fef-d232cfe57240",
   "metadata": {},
   "outputs": [],
   "source": []
  }
 ],
 "metadata": {
  "kernelspec": {
   "display_name": "Python",
   "language": "python",
   "name": "conda-env-python-py"
  },
  "language_info": {
   "codemirror_mode": {
    "name": "ipython",
    "version": 3
   },
   "file_extension": ".py",
   "mimetype": "text/x-python",
   "name": "python",
   "nbconvert_exporter": "python",
   "pygments_lexer": "ipython3",
   "version": "3.7.12"
  }
 },
 "nbformat": 4,
 "nbformat_minor": 5
}
